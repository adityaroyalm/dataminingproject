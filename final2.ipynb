{
 "cells": [
  {
   "cell_type": "code",
   "execution_count": 1,
   "metadata": {
    "collapsed": false,
    "deletable": true,
    "editable": true
   },
   "outputs": [
    {
     "name": "stdout",
     "output_type": "stream",
     "text": [
      "Requirement already satisfied: dicom in /usr/local/envs/py3env/lib/python3.5/site-packages\r\n"
     ]
    },
    {
     "name": "stderr",
     "output_type": "stream",
     "text": [
      "/usr/local/envs/py3env/lib/python3.5/site-packages/dicom/__init__.py:53: UserWarning: \n",
      "This code is using an older version of pydicom, which is no longer \n",
      "maintained as of Jan 2017.  You can access the new pydicom features and API \n",
      "by installing `pydicom` from PyPI.\n",
      "See 'Transitioning to pydicom 1.x' section at pydicom.readthedocs.org \n",
      "for more information.\n",
      "\n",
      "  warnings.warn(msg)\n"
     ]
    },
    {
     "name": "stdout",
     "output_type": "stream",
     "text": [
      "Requirement already satisfied: keras in /usr/local/envs/py3env/lib/python3.5/site-packages\n",
      "Requirement already satisfied: scipy>=0.14 in /usr/local/envs/py3env/lib/python3.5/site-packages (from keras)\n",
      "Requirement already satisfied: six>=1.9.0 in /usr/local/envs/py3env/lib/python3.5/site-packages (from keras)\n",
      "Requirement already satisfied: numpy>=1.9.1 in /usr/local/envs/py3env/lib/python3.5/site-packages (from keras)\n",
      "Requirement already satisfied: pyyaml in /usr/local/envs/py3env/lib/python3.5/site-packages (from keras)\n",
      "Requirement already satisfied: h5py in /usr/local/envs/py3env/lib/python3.5/site-packages\n",
      "Requirement already satisfied: numpy>=1.7 in /usr/local/envs/py3env/lib/python3.5/site-packages (from h5py)\n",
      "Requirement already satisfied: six in /usr/local/envs/py3env/lib/python3.5/site-packages (from h5py)\n"
     ]
    },
    {
     "name": "stderr",
     "output_type": "stream",
     "text": [
      "/usr/local/envs/py3env/lib/python3.5/site-packages/h5py/__init__.py:36: FutureWarning: Conversion of the second argument of issubdtype from `float` to `np.floating` is deprecated. In future, it will be treated as `np.float64 == np.dtype(float).type`.\n",
      "  from ._conv import register_converters as _register_converters\n",
      "Using TensorFlow backend.\n"
     ]
    }
   ],
   "source": [
    "import numpy as np # linear algebra\n",
    "import pandas as pd # data processing, CSV file I/O (e.g. pd.read_csv)\n",
    "import os\n",
    "import glob\n",
    "!pip install dicom\n",
    "import dicom\n",
    "import scipy.ndimage\n",
    "from __future__ import division\n",
    "from io import BytesIO\n",
    "import google.datalab.storage as storage\n",
    "import matplotlib.pyplot as plt\n",
    "from skimage import filters\n",
    "from scipy.ndimage.interpolation import rotate\n",
    "import math\n",
    "import numpy as np\n",
    "from sklearn.metrics import accuracy_score\n",
    "!pip install keras\n",
    "!pip install h5py\n",
    "import keras \n",
    "from keras import layers \n",
    "from sklearn.model_selection import train_test_split\n",
    "from keras.layers import BatchNormalization,Conv2D\n",
    "from keras.models import Sequential\n",
    "from sklearn.model_selection import train_test_split\n",
    "from scipy.ndimage.interpolation import zoom\n",
    "#for o in bucket('msadata').Objects('stage1_labels.csv','',delimiter=''):\n",
    "%gcs read --o \"gs://msadata/stage1_labels.csv/stage1_labels.csv\" --variable df\n",
    "df=pd.read_csv(BytesIO(df))\n",
    "#y=np.array([int(x) for x in df['cancer'].values])\n",
    "df=df.sort_values(['cancer'])\n",
    "total=list()\n",
    "train=list()\n",
    "valid=list()\n",
    "test=list()\n",
    "for o in storage.Bucket('msadata').objects(prefix='test2',delimiter=''):\n",
    "    total.append(str(o.key).split('/')[1])\n",
    "total=list(set(total))\n",
    "total=sorted(total)\n",
    "y=np.array(df['cancer'])\n",
    "total=pd.DataFrame(total,columns=['id'])\n",
    "total=total.merge(df,how='left',on='id')   \n",
    "total_na=total.isnull().sum()\n",
    "total=total.fillna(0)\n",
    "if total.shape[1]>2:\n",
    "    total.drop(columns=[x for x in t.columns[2:]],inplace=True)\n",
    "for x in range(2,10):\n",
    "  if len(total)%x==0:\n",
    "    ratio=1/x\n",
    "    break\n",
    "  else:\n",
    "    pass\n",
    "for x in range(2,10):\n",
    "  if len(total)%x==0:\n",
    "    ratio=1/x\n",
    "    break\n",
    "  else:\n",
    "    pass\n",
    "train,valid=train_test_split(total,test_size=ratio)\n",
    "for x in range(2,10):\n",
    "  if len(train)%x==0:\n",
    "    ratio=1/x\n",
    "    break\n",
    "  else:\n",
    "    pass\n",
    "valid,test=train_test_split(train,test_size=ratio)\n",
    "train.reset_index(drop=True,inplace=True)\n",
    "test.reset_index(drop=True,inplace=True)\n",
    "valid.reset_index(drop=True,inplace=True)"
   ]
  },
  {
   "cell_type": "code",
   "execution_count": 2,
   "metadata": {
    "collapsed": false,
    "deletable": true,
    "editable": true
   },
   "outputs": [],
   "source": [
    "train.reset_index(drop=True,inplace=True)\n",
    "test.reset_index(drop=True,inplace=True)\n",
    "valid.reset_index(drop=True,inplace=True)\n",
    "repeat='nn'"
   ]
  },
  {
   "cell_type": "code",
   "execution_count": 3,
   "metadata": {
    "collapsed": false,
    "deletable": true,
    "editable": true
   },
   "outputs": [],
   "source": [
    "#preprocessing\n",
    "\n",
    "#binary image segmentation\n",
    "#from skimage import filters\n",
    "#val=filters.threshold_otsu(fourd_array)\n",
    "#mask=fourd_array>val\n",
    "#random walker\n",
    "\n",
    "\n",
    "#measuring region properties\n",
    "\n",
    "\n",
    "#feature extracion"
   ]
  },
  {
   "cell_type": "code",
   "execution_count": 4,
   "metadata": {
    "collapsed": false,
    "deletable": true,
    "editable": true
   },
   "outputs": [],
   "source": [
    "from keras.layers import Flatten,Dense\n",
    "from keras.utils import to_categorical\n",
    "if repeat=='n':\n",
    "  model = load_model('my_model.h5')\n",
    "else:\n",
    "  model=Sequential()\n",
    "  model.add(Conv2D(80,(10),padding='same',activation='relu',data_format='channels_first',input_shape=(133,512,512)))\n",
    "  model.add(Conv2D(50,(10),padding='same',activation='relu',data_format='channels_first'))\n",
    "  model.add(Conv2D(1,(1),padding='same',activation='relu',data_format='channels_first'))\n",
    "  model.add(Flatten())\n",
    "  model.add(Dense(2,activation='relu'))\n",
    "  model.compile(loss='categorical_crossentropy',optimizer='sgd',metrics=['accuracy'])\n",
    "  i=0   \n",
    "  b=u'test/00cba091fa4ad62cc3200a657aeb957e/034673134cbef5ea15ff9e0c8090500a.dcm'\n",
    "  %gcs read --o \"gs://msadata/$b\" --variable dicom_file   \n"
   ]
  },
  {
   "cell_type": "code",
   "execution_count": null,
   "metadata": {
    "collapsed": false,
    "deletable": true,
    "editable": true
   },
   "outputs": [],
   "source": [
    "#dicom.read_file(BytesIO(dicom_file)).pixel_array\n",
    "#model.summary()\n",
    "#!pip3 install h5py\n",
    "#!pip3 install cython\n",
    "#!pip3 install tests\n",
    "#from .tests import run_tests\n",
    "#import tests\n",
    "#import h5py\n",
    "#!pip3 install libhdf5-dev"
   ]
  },
  {
   "cell_type": "code",
   "execution_count": null,
   "metadata": {
    "collapsed": false,
    "deletable": true,
    "editable": true
   },
   "outputs": [
    {
     "name": "stderr",
     "output_type": "stream",
     "text": [
      "/usr/local/envs/py3env/lib/python3.5/site-packages/ipykernel/__main__.py:86: UserWarning: Update your `fit_generator` call to the Keras 2 API: `fit_generator(<generator..., epochs=2, validation_steps=4, validation_data=<generator..., steps_per_epoch=5, use_multiprocessing=True)`\n"
     ]
    },
    {
     "name": "stdout",
     "output_type": "stream",
     "text": [
      "Epoch 1/2\n"
     ]
    },
    {
     "name": "stderr",
     "output_type": "stream",
     "text": [
      "/usr/local/envs/py3env/lib/python3.5/site-packages/scipy/ndimage/interpolation.py:616: UserWarning: From scipy 0.13.0, the output shape of zoom() is calculated with round() instead of int() - for these inputs the size of the returned array has changed.\n",
      "  \"the returned array has changed.\", UserWarning)\n"
     ]
    },
    {
     "name": "stdout",
     "output_type": "stream",
     "text": [
      "(1, 82, 512, 512)\n",
      "1/5 [=====>........................] - ETA: 43:59 - loss: 16.1181 - acc: 0.0000e+00"
     ]
    }
   ],
   "source": [
    "def array_generator(train):\n",
    "  \n",
    "  y=list()\n",
    "  plan=list()\n",
    "  plan2=list()\n",
    "  plan0=list()\n",
    "  b=list()\n",
    "  ans=0\n",
    "  \n",
    "  if train.loc[0,'id']==test.loc[0,'id']:\n",
    "    ans=2\n",
    "    #print(88)\n",
    "  train_y=train['cancer'].values\n",
    "  train_y=to_categorical(train_y,num_classes=2)\n",
    "  while 1: \n",
    "    for i in range(1,len(train)):\n",
    "      #print(i)\n",
    "      slices=list()\n",
    "      #print(i)\n",
    "      patientimages=list()\n",
    "      a=list()\n",
    "      #print(i)\n",
    "      a=[o.key for o in storage.Objects('msadata',prefix='test2/'+str(train.loc[i,'id'])+'/',delimiter='')]\n",
    "      for j in range(len(a)):\n",
    "        b=repr(a[j])\n",
    "        %gcs read --o \"gs://msadata/$b\" --variable dicom_file\n",
    "        dcmfile=dicom.read_file(BytesIO(dicom_file))\n",
    "        plan.append(dcmfile.ImagePositionPatient)\n",
    "        y.append(b)\n",
    "        #print(y)\n",
    "      sor=sorted(plan,key=lambda x:x[2])\n",
    "      ran=[sor.index(x) for x in plan]\n",
    "      y=[y[x] for x in ran]\n",
    "      a=y\n",
    "      #print(a)\n",
    "      for j in range(len(y)):\n",
    "        b=repr(a[j])\n",
    "        #print(b)\n",
    "        %gcs read --o \"gs://msadata/$b\" --variable dicom_file\n",
    "        \n",
    "        #if i==3:\n",
    "          #print(dicom_file)\n",
    "        dcmfile=dicom.read_file(BytesIO(dicom_file))\n",
    "        #slices.append([dcmfile.pixel_array])\n",
    "        #position.append([dicom.read_file(BytesIO(dicom_file)).ImageOrientationPatient])\n",
    "        #rank=np.array(position).argsort()\n",
    "        #slices=[slices[x] for x in rank]\n",
    "        #orientation.append([dicom.read_file(BytesIO(dicom_file)).ImagePositionPatient])\n",
    "        #print(slices)\n",
    "        plan2=dcmfile.ImageOrientationPatient\n",
    "        b=[math.acos(int(x))*180/math.pi for x in plan2]\n",
    "        plan3=dcmfile.pixel_array\n",
    "        #print(plan3.shape)\n",
    "        n=rotate(np.expand_dims(plan3,axis=2),b[0],axes=(1,2))\n",
    "        n=rotate(np.expand_dims(plan3,axis=2),b[1],axes=(2,0))\n",
    "        plan3=rotate(np.expand_dims(plan3,axis=2),b[2],axes=(1,0))\n",
    "        #print(plan3.shape)\n",
    "        val=filters.threshold_otsu(plan3)\n",
    "        mask=plan3>val\n",
    "        plan3=mask*plan3\n",
    "        #print(plan3.shape)\n",
    "        plan3=np.squeeze(plan3,axis=2)\n",
    "        plan3=np.expand_dims(plan3,axis=0)\n",
    "        #print(plan3.shape)\n",
    "        slices.append(plan3)       \n",
    "      fourd_array=np.stack([x for x in slices],axis=1)\n",
    "      #print(fourd_array.shape)\n",
    "      #print(fourd_array.shape)\n",
    "      fourd_array=zoom(fourd_array,(1,dcmfile.PixelSpacing[0],1,1))\n",
    "      print(fourd_array.shape)\n",
    "      if fourd_array.shape[1]>=133:\n",
    "        fourd_array=fourd_array[:,:133,:,:]\n",
    "        #print(fourd_array.shape)\n",
    "      else:\n",
    "        temp=fourd_array\n",
    "        m=fourd_array.shape[1]\n",
    "        fourd_array=np.zeros((1,133,512,512))\n",
    "        fourd_array[0,:m,:512,:512]=temp\n",
    "        #print(fourd_array.shape)\n",
    "      if ans==2:\n",
    "        yield(fourd_array)\n",
    "      else:\n",
    "        yield(fourd_array,np.expand_dims(train_y[i],0))\n",
    "        #model.save('my_model.h5') \n",
    "        \n",
    "model.fit_generator(array_generator(train),validation_data=array_generator(valid),validation_steps=len(valid),use_multiprocessing=True,samples_per_epoch=len(train),epochs=2)\n"
   ]
  },
  {
   "cell_type": "code",
   "execution_count": null,
   "metadata": {
    "collapsed": false,
    "deletable": true,
    "editable": true
   },
   "outputs": [],
   "source": [
    "scores=model.evaluate_generator(array_generator(train),steps=len(train))"
   ]
  },
  {
   "cell_type": "code",
   "execution_count": null,
   "metadata": {
    "collapsed": false,
    "deletable": true,
    "editable": true
   },
   "outputs": [],
   "source": [
    "predictions=model.predict_generator(array_generator(test),steps=len(test),verbose=1)"
   ]
  },
  {
   "cell_type": "code",
   "execution_count": null,
   "metadata": {
    "collapsed": false,
    "deletable": true,
    "editable": true
   },
   "outputs": [],
   "source": [
    "final_accuracy=accuracy_score(test['id'],predictions[:,1])"
   ]
  },
  {
   "cell_type": "code",
   "execution_count": null,
   "metadata": {
    "collapsed": false,
    "deletable": true,
    "editable": true
   },
   "outputs": [],
   "source": [
    "final_accuracy"
   ]
  },
  {
   "cell_type": "code",
   "execution_count": null,
   "metadata": {
    "collapsed": false,
    "deletable": true,
    "editable": true
   },
   "outputs": [],
   "source": [
    "import math"
   ]
  },
  {
   "cell_type": "code",
   "execution_count": null,
   "metadata": {
    "collapsed": false,
    "deletable": true,
    "editable": true
   },
   "outputs": [],
   "source": []
  },
  {
   "cell_type": "code",
   "execution_count": null,
   "metadata": {
    "collapsed": false,
    "deletable": true,
    "editable": true
   },
   "outputs": [],
   "source": [
    "test\n"
   ]
  },
  {
   "cell_type": "code",
   "execution_count": null,
   "metadata": {
    "collapsed": false,
    "deletable": true,
    "editable": true
   },
   "outputs": [],
   "source": [
    "from skimage import filters"
   ]
  },
  {
   "cell_type": "code",
   "execution_count": null,
   "metadata": {
    "collapsed": true,
    "deletable": true,
    "editable": true
   },
   "outputs": [],
   "source": [
    "model.summary()\n"
   ]
  },
  {
   "cell_type": "code",
   "execution_count": null,
   "metadata": {
    "collapsed": true,
    "deletable": true,
    "editable": true
   },
   "outputs": [],
   "source": [
    "1+1\n"
   ]
  },
  {
   "cell_type": "code",
   "execution_count": null,
   "metadata": {
    "collapsed": true,
    "deletable": true,
    "editable": true
   },
   "outputs": [],
   "source": []
  }
 ],
 "metadata": {
  "kernelspec": {
   "display_name": "Python 3",
   "language": "python",
   "name": "python3"
  },
  "language_info": {
   "codemirror_mode": {
    "name": "ipython",
    "version": 3
   },
   "file_extension": ".py",
   "mimetype": "text/x-python",
   "name": "python",
   "nbconvert_exporter": "python",
   "pygments_lexer": "ipython3",
   "version": "3.5.5"
  }
 },
 "nbformat": 4,
 "nbformat_minor": 2
}
